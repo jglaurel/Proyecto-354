{
 "cells": [
  {
   "cell_type": "code",
   "execution_count": 97,
   "id": "0eebb734",
   "metadata": {},
   "outputs": [],
   "source": [
    "import pandas as pd"
   ]
  },
  {
   "cell_type": "code",
   "execution_count": 113,
   "id": "70755404",
   "metadata": {
    "scrolled": true
   },
   "outputs": [],
   "source": [
    "dt = pd.read_csv(\"D:\\\\Trabajos U\\\\354\\Proyecto-354\\\\world.csv\",header=0)\n",
    "dt['year2']=dt.groupby('Year')['Year'].transform(lambda x:x-1950)\n",
    "pd.get_dummies(dt,columns=[\"Country\"])\n",
    "df=dt.to_csv(r'D:\\Trabajos U\\354\\Proyecto-354\\poblacion.csv',index=False)"
   ]
  },
  {
   "cell_type": "code",
   "execution_count": 114,
   "id": "87b381b7",
   "metadata": {},
   "outputs": [],
   "source": [
    "#variables predictoras\n",
    "X=dt[['year2','Median Age','Fertility Rate']]\n",
    "y=dt.iloc[:,1]"
   ]
  },
  {
   "cell_type": "code",
   "execution_count": 100,
   "id": "d28cac5a",
   "metadata": {},
   "outputs": [],
   "source": [
    "from sklearn.model_selection import train_test_split\n",
    "\n",
    "X_train,X_test,y_train,y_test=train_test_split(X,y,train_size=0.8, random_state=0)"
   ]
  },
  {
   "cell_type": "code",
   "execution_count": 101,
   "id": "d9bce935",
   "metadata": {},
   "outputs": [
    {
     "name": "stdout",
     "output_type": "stream",
     "text": [
      "<class 'pandas.core.frame.DataFrame'>\n",
      "Int64Index: 360 entries, 49 to 172\n",
      "Data columns (total 3 columns):\n",
      " #   Column          Non-Null Count  Dtype  \n",
      "---  ------          --------------  -----  \n",
      " 0   year2           360 non-null    int64  \n",
      " 1   Median Age      360 non-null    float64\n",
      " 2   Fertility Rate  360 non-null    float64\n",
      "dtypes: float64(2), int64(1)\n",
      "memory usage: 11.2 KB\n"
     ]
    }
   ],
   "source": [
    "X_train.info()"
   ]
  },
  {
   "cell_type": "code",
   "execution_count": 102,
   "id": "09b49782",
   "metadata": {},
   "outputs": [],
   "source": [
    "from sklearn.tree import DecisionTreeClassifier\n",
    "#se crea el arbol en 4 niveles\n",
    "arbol=DecisionTreeClassifier(max_depth=4)\n",
    "#entrenar modelo\n",
    "arbol_poblacion=arbol.fit(X_train,y_train)"
   ]
  },
  {
   "cell_type": "code",
   "execution_count": 103,
   "id": "aed9470f",
   "metadata": {},
   "outputs": [
    {
     "ename": "TypeError",
     "evalue": "list() takes no keyword arguments",
     "output_type": "error",
     "traceback": [
      "\u001b[1;31m---------------------------------------------------------------------------\u001b[0m",
      "\u001b[1;31mTypeError\u001b[0m                                 Traceback (most recent call last)",
      "Input \u001b[1;32mIn [103]\u001b[0m, in \u001b[0;36m<cell line: 6>\u001b[1;34m()\u001b[0m\n\u001b[0;32m      2\u001b[0m \u001b[38;5;28;01mfrom\u001b[39;00m \u001b[38;5;21;01msklearn\u001b[39;00m \u001b[38;5;28;01mimport\u001b[39;00m tree\n\u001b[0;32m      4\u001b[0m fig\u001b[38;5;241m=\u001b[39mplt\u001b[38;5;241m.\u001b[39mfigure(figsize\u001b[38;5;241m=\u001b[39m(\u001b[38;5;241m25\u001b[39m,\u001b[38;5;241m20\u001b[39m))\n\u001b[0;32m      6\u001b[0m tree\u001b[38;5;241m.\u001b[39mplot_tree(arbol_poblacion,feature_names\u001b[38;5;241m=\u001b[39m\u001b[38;5;28mlist\u001b[39m(X\u001b[38;5;241m.\u001b[39mcolumns\u001b[38;5;241m.\u001b[39mvalues),\n\u001b[1;32m----> 7\u001b[0m               class_names\u001b[38;5;241m=\u001b[39m\u001b[38;5;28;43mlist\u001b[39;49m\u001b[43m(\u001b[49m\u001b[43my\u001b[49m\u001b[38;5;241;43m.\u001b[39;49m\u001b[43mvalues\u001b[49m\u001b[43m,\u001b[49m\u001b[43m \u001b[49m\u001b[43mfilled\u001b[49m\u001b[38;5;241;43m=\u001b[39;49m\u001b[38;5;28;43;01mTrue\u001b[39;49;00m\u001b[43m)\u001b[49m)\n\u001b[0;32m      8\u001b[0m plt\u001b[38;5;241m.\u001b[39mshow()\n",
      "\u001b[1;31mTypeError\u001b[0m: list() takes no keyword arguments"
     ]
    },
    {
     "data": {
      "text/plain": [
       "<Figure size 2500x2000 with 0 Axes>"
      ]
     },
     "metadata": {},
     "output_type": "display_data"
    }
   ],
   "source": [
    "from matplotlib import pyplot as plt\n",
    "from sklearn import tree\n",
    "\n",
    "fig=plt.figure(figsize=(25,20))\n",
    "\n",
    "tree.plot_tree(arbol_poblacion,feature_names=list(X.columns.values),\n",
    "              class_names=list(y.values, filled=True))\n",
    "plt.show()"
   ]
  },
  {
   "cell_type": "code",
   "execution_count": 104,
   "id": "9f57ab0a",
   "metadata": {},
   "outputs": [
    {
     "data": {
      "text/plain": [
       "array([10052152, 10052152, 10052152, 10052152, 10052152, 10052152,\n",
       "       10052152, 10052152, 10052152, 10052152, 10052152, 10052152,\n",
       "       10052152, 10052152, 10052152, 10052152, 10052152, 10052152,\n",
       "       10052152, 10052152, 10052152,  8729662, 10052152, 10052152,\n",
       "       10052152, 10052152, 10052152, 10052152, 10052152, 10052152,\n",
       "       10052152, 10052152, 10052152, 10052152, 26269734, 10052152,\n",
       "       10052152, 10052152, 10052152, 10052152, 10052152, 10052152,\n",
       "       10052152, 10052152, 10052152, 10052152, 10052152, 10052152,\n",
       "       10052152,  8729662, 10052152, 10052152, 10052152, 10052152,\n",
       "        8729662, 10052152, 10052152, 10052152, 10052152, 10052152,\n",
       "       10052152, 10052152, 10052152, 10052152, 10052152, 10052152,\n",
       "       10052152, 10052152,  8729662, 10052152, 10052152, 10052152,\n",
       "        8729662, 10052152, 10052152, 10052152, 10052152, 10052152,\n",
       "       10052152, 10052152, 10052152, 10052152, 10052152, 10052152,\n",
       "       10052152, 10052152, 10052152, 10052152, 10052152, 10052152],\n",
       "      dtype=int64)"
      ]
     },
     "execution_count": 104,
     "metadata": {},
     "output_type": "execute_result"
    }
   ],
   "source": [
    "#calcular que tan bueno es para predecir\n",
    "Y_pred=arbol_poblacion.predict(X_test)\n",
    "Y_pred"
   ]
  },
  {
   "cell_type": "code",
   "execution_count": 105,
   "id": "3630600e",
   "metadata": {},
   "outputs": [
    {
     "data": {
      "text/plain": [
       "array([[0, 0, 0, ..., 0, 0, 0],\n",
       "       [0, 0, 0, ..., 0, 0, 0],\n",
       "       [1, 0, 0, ..., 0, 0, 0],\n",
       "       ...,\n",
       "       [0, 1, 0, ..., 0, 0, 0],\n",
       "       [0, 1, 0, ..., 0, 0, 0],\n",
       "       [0, 1, 0, ..., 0, 0, 0]], dtype=int64)"
      ]
     },
     "execution_count": 105,
     "metadata": {},
     "output_type": "execute_result"
    }
   ],
   "source": [
    "from sklearn.metrics import confusion_matrix\n",
    "\n",
    "Matriz_confusion=confusion_matrix(y_test,Y_pred)\n",
    "\n",
    "Matriz_confusion"
   ]
  },
  {
   "cell_type": "code",
   "execution_count": 106,
   "id": "c8382728",
   "metadata": {},
   "outputs": [
    {
     "data": {
      "text/plain": [
       "0.0"
      ]
     },
     "execution_count": 106,
     "metadata": {},
     "output_type": "execute_result"
    }
   ],
   "source": [
    "import numpy as np\n",
    "precision_global=np.sum(Matriz_confusion.diagonal())/np.sum(Matriz_confusion)\n",
    "precision_global"
   ]
  },
  {
   "cell_type": "code",
   "execution_count": 110,
   "id": "9dd830ab",
   "metadata": {},
   "outputs": [
    {
     "name": "stderr",
     "output_type": "stream",
     "text": [
      "C:\\Users\\DELL\\AppData\\Local\\Temp\\ipykernel_30956\\2770567729.py:1: RuntimeWarning: invalid value encountered in longlong_scalars\n",
      "  precision_n=((Matriz_confusion[0,0]))/sum(Matriz_confusion[0,])\n"
     ]
    },
    {
     "data": {
      "text/plain": [
       "nan"
      ]
     },
     "execution_count": 110,
     "metadata": {},
     "output_type": "execute_result"
    }
   ],
   "source": [
    "precision_n=((Matriz_confusion[0,0]))/sum(Matriz_confusion[0,])\n",
    "precision_n"
   ]
  },
  {
   "cell_type": "code",
   "execution_count": 109,
   "id": "881b0aef",
   "metadata": {},
   "outputs": [
    {
     "name": "stderr",
     "output_type": "stream",
     "text": [
      "C:\\Users\\DELL\\AppData\\Local\\Temp\\ipykernel_30956\\1876012530.py:1: RuntimeWarning: invalid value encountered in longlong_scalars\n",
      "  precision_s=((Matriz_confusion[1,1]))/sum(Matriz_confusion[1,])\n"
     ]
    },
    {
     "data": {
      "text/plain": [
       "nan"
      ]
     },
     "execution_count": 109,
     "metadata": {},
     "output_type": "execute_result"
    }
   ],
   "source": [
    "precision_s=((Matriz_confusion[1,1]))/sum(Matriz_confusion[1,])\n",
    "precision_s"
   ]
  },
  {
   "cell_type": "code",
   "execution_count": null,
   "id": "b9245444",
   "metadata": {},
   "outputs": [],
   "source": []
  }
 ],
 "metadata": {
  "kernelspec": {
   "display_name": "Python 3 (ipykernel)",
   "language": "python",
   "name": "python3"
  },
  "language_info": {
   "codemirror_mode": {
    "name": "ipython",
    "version": 3
   },
   "file_extension": ".py",
   "mimetype": "text/x-python",
   "name": "python",
   "nbconvert_exporter": "python",
   "pygments_lexer": "ipython3",
   "version": "3.9.12"
  }
 },
 "nbformat": 4,
 "nbformat_minor": 5
}
